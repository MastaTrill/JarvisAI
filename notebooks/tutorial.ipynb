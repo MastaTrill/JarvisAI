{
 "cells": [
  {
   "cell_type": "markdown",
   "id": "70190297",
   "metadata": {},
   "source": [
    "# Jarvis AI Tutorial Notebook\n",
    "This notebook demonstrates training, prediction, and plugin usage."
   ]
  },
  {
   "cell_type": "code",
   "execution_count": null,
   "id": "9c2fe145",
   "metadata": {},
   "outputs": [],
   "source": [
    "import requests\n",
    "# Example: Train a model\n",
    "resp = requests.post('http://localhost:8000/train', json={\"model_name\": \"demo\", \"model_type\": \"basic\", \"config\": {}})\n",
    "print(resp.json())"
   ]
  }
 ],
 "metadata": {
  "language_info": {
   "name": "python"
  }
 },
 "nbformat": 4,
 "nbformat_minor": 5
}
